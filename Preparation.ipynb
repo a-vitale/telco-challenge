{
 "cells": [
  {
   "cell_type": "code",
   "execution_count": 1,
   "id": "e2721f5c",
   "metadata": {},
   "outputs": [
    {
     "name": "stdout",
     "output_type": "stream",
     "text": [
      "Requirement already satisfied: numpy==1.18.1 in c:\\users\\vital\\anaconda3\\lib\\site-packages (from -r requirements.txt (line 1)) (1.18.1)\n",
      "Requirement already satisfied: pandas==1.0.1 in c:\\users\\vital\\anaconda3\\lib\\site-packages (from -r requirements.txt (line 2)) (1.0.1)\n",
      "Requirement already satisfied: scikit-learn==0.22.2.post1 in c:\\users\\vital\\anaconda3\\lib\\site-packages (from -r requirements.txt (line 3)) (0.22.2.post1)\n",
      "Requirement already satisfied: python-dateutil>=2.6.1 in c:\\users\\vital\\anaconda3\\lib\\site-packages (from pandas==1.0.1->-r requirements.txt (line 2)) (2.8.1)\n",
      "Requirement already satisfied: pytz>=2017.2 in c:\\users\\vital\\anaconda3\\lib\\site-packages (from pandas==1.0.1->-r requirements.txt (line 2)) (2021.1)\n",
      "Requirement already satisfied: scipy>=0.17.0 in c:\\users\\vital\\anaconda3\\lib\\site-packages (from scikit-learn==0.22.2.post1->-r requirements.txt (line 3)) (1.6.2)\n",
      "Requirement already satisfied: joblib>=0.11 in c:\\users\\vital\\anaconda3\\lib\\site-packages (from scikit-learn==0.22.2.post1->-r requirements.txt (line 3)) (1.0.1)\n",
      "Requirement already satisfied: six>=1.5 in c:\\users\\vital\\anaconda3\\lib\\site-packages (from python-dateutil>=2.6.1->pandas==1.0.1->-r requirements.txt (line 2)) (1.14.0)\n"
     ]
    }
   ],
   "source": [
    "!pip install -r requirements.txt"
   ]
  },
  {
   "cell_type": "code",
   "execution_count": 3,
   "id": "3d84d24c",
   "metadata": {},
   "outputs": [],
   "source": [
    "import pandas as pd\n",
    "from sklearn.model_selection import train_test_split\n",
    "\n",
    "dataFrame = pd.read_csv(\"./Telco-Customer-Churn.partial.csv\")"
   ]
  },
  {
   "cell_type": "code",
   "execution_count": 4,
   "id": "e33662ea",
   "metadata": {},
   "outputs": [],
   "source": [
    "y_dataFrame = dataFrame['Churn'].copy()\n",
    "x_dataFrame = dataFrame.drop(\"Churn\", axis=1).copy()"
   ]
  },
  {
   "cell_type": "code",
   "execution_count": 5,
   "id": "ba9c9e4a",
   "metadata": {},
   "outputs": [],
   "source": [
    "x_train, x_test, y_train, y_test = train_test_split(x_dataFrame, y_dataFrame, test_size=0.2, random_state=0)\n",
    "train = x_train.join(y_train)\n",
    "test = x_test.join(y_test)"
   ]
  },
  {
   "cell_type": "code",
   "execution_count": 6,
   "id": "7a9bd0f8",
   "metadata": {},
   "outputs": [
    {
     "name": "stdout",
     "output_type": "stream",
     "text": [
      "save train.csv\n",
      "save test.csv\n"
     ]
    }
   ],
   "source": [
    "train.to_csv(\"train.csv\", index=False)\n",
    "print(\"save train.csv\")\n",
    "test.to_csv(\"test.csv\", index=False)\n",
    "print(\"save test.csv\")"
   ]
  },
  {
   "cell_type": "code",
   "execution_count": null,
   "id": "2aace6b8",
   "metadata": {},
   "outputs": [],
   "source": []
  }
 ],
 "metadata": {
  "kernelspec": {
   "display_name": "Python 3",
   "language": "python",
   "name": "python3"
  },
  "language_info": {
   "codemirror_mode": {
    "name": "ipython",
    "version": 3
   },
   "file_extension": ".py",
   "mimetype": "text/x-python",
   "name": "python",
   "nbconvert_exporter": "python",
   "pygments_lexer": "ipython3",
   "version": "3.8.8"
  }
 },
 "nbformat": 4,
 "nbformat_minor": 5
}
